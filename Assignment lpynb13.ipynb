{
  "nbformat": 4,
  "nbformat_minor": 0,
  "metadata": {
    "colab": {
      "provenance": []
    },
    "kernelspec": {
      "name": "python3",
      "display_name": "Python 3"
    },
    "language_info": {
      "name": "python"
    }
  },
  "cells": [
    {
      "cell_type": "markdown",
      "source": [
        "###**1. What advantages do Excel spreadsheets have over CSV spreadsheets?**\n",
        "\n",
        "**Ans:** The Advantages of Excel over CSV are:\n",
        "\n",
        "     1.Excel (XLS and XLSX) file formats are better for storing and analysing complex data.\n",
        "     2.An Excel not only stores data but can also do operations on the data using macros, formulas etc\n",
        "     3.CSV files are plain-text files, Does not contain formatting,formulas, macros, etc. It is also known as flat files"
      ],
      "metadata": {
        "id": "qbS2560NBZnD"
      }
    },
    {
      "cell_type": "markdown",
      "source": [
        "###**2.What do you pass to csv.reader() and csv.writer() to create reader and writer objects?**"
      ],
      "metadata": {
        "id": "DRGUv1NOB5xZ"
      }
    },
    {
      "cell_type": "code",
      "source": [
        "import csv\n",
        "with open('text.csv','r') as file:\n",
        "    csv_file = csv.reader(file,delimiter=',')\n",
        "    for ele in csv_file:\n",
        "        print(ele)"
      ],
      "metadata": {
        "id": "a27H33TOCd9T"
      },
      "execution_count": null,
      "outputs": []
    },
    {
      "cell_type": "markdown",
      "source": [
        "###**3. What modes do File objects for reader and writer objects need to be opened in?**\n",
        "**Ans:** For csv.reader(iterable_file_object), the file objects needed to be opened in read mode mode='r' Whereas for csv.writer(iterable_file_object) the file objects needed to be opened in write mode mode='w'"
      ],
      "metadata": {
        "id": "TZg-S1zKCx_S"
      }
    },
    {
      "cell_type": "markdown",
      "source": [
        "###**4. What method takes a list argument and writes it to a CSV file?**\n",
        "**Ans:** csv.writer class provides two methods for writing to CSV. They are writerow() and writerows(). writerow() method writes a single row at a time. Whereas writerows() method is used to write multiple rows at a time."
      ],
      "metadata": {
        "id": "4Uf1F0YsDEP5"
      }
    },
    {
      "cell_type": "markdown",
      "source": [
        "###**5. What do the keyword arguments delimiter and line terminator do?**\n",
        "**Ans:** Lets take the example of a csv file:\n",
        "\n",
        "First Name, Last Name, Age\n",
        "\n",
        "anish, kumar, 21\n",
        "\n",
        "gaurav, mandal, 21\n",
        "\n",
        "Here ',' is Delimiter. We can use any Character as per our needs if required. Similarly Line Terminator comes at end of line by default it is newline and can be changed accourding to Requirement."
      ],
      "metadata": {
        "id": "-idBbbPVDaL5"
      }
    },
    {
      "cell_type": "markdown",
      "source": [
        "###**6. What function takes a string of JSON data and returns a Python data structure?**\n",
        "**Ans:** loads() method takes a string of JSON data and returns a Python data structure"
      ],
      "metadata": {
        "id": "XxeODgbsDsuK"
      }
    },
    {
      "cell_type": "code",
      "source": [
        "# Example of json.loads() method\n",
        "import json\n",
        "my_details_json ='''{\n",
        "    \"Name\": \"Anish Arihant\",\n",
        "    \"Qualification\": \"Bachelor of Technology\",\n",
        "    \"Stream\": \"Computer Science and Engineering\"\n",
        "}'''\n",
        "print(my_details_json)\n",
        "print(f'Type of my_details_json is {type(my_details_json)}')\n",
        "my_details = json.loads(my_details_json)\n",
        "print(my_details)\n",
        "print(f'Type of my_details is {type(my_details)}')"
      ],
      "metadata": {
        "colab": {
          "base_uri": "https://localhost:8080/"
        },
        "id": "c5j2kFdfD_jR",
        "outputId": "90c2ba41-18e7-4cae-893b-c8dd4d53db6f"
      },
      "execution_count": 2,
      "outputs": [
        {
          "output_type": "stream",
          "name": "stdout",
          "text": [
            "{\n",
            "    \"Name\": \"Mano Vishnu\",\n",
            "    \"Qualification\": \"Bachelor of Technology\",\n",
            "    \"Stream\": \"Computer Science and Engineering\"\n",
            "}\n",
            "Type of my_details_json is <class 'str'>\n",
            "{'Name': 'Mano Vishnu', 'Qualification': 'Bachelor of Technology', 'Stream': 'Computer Science and Engineering'}\n",
            "Type of my_details is <class 'dict'>\n"
          ]
        }
      ]
    },
    {
      "cell_type": "markdown",
      "source": [
        "###**7. What function takes a Python data structure and returns a string of JSON data?**\n",
        "**Ans:** dumps() method takes a python data structure and returns a string of JSON data"
      ],
      "metadata": {
        "id": "oqkgfbfVFt8x"
      }
    }
  ]
}